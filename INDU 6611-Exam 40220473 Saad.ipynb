{
 "cells": [
  {
   "cell_type": "raw",
   "metadata": {},
   "source": [
    "You have been hired as data scientist at the Montreal Cancer Treatment Institute. Your new lab told you that they have a really insteresting dataset of breast cancer data and they want you to check if the table can be used without any changes.\n"
   ]
  },
  {
   "cell_type": "code",
   "execution_count": 1,
   "metadata": {
    "id": "krRAXa9S6qIc"
   },
   "outputs": [],
   "source": [
    "#Import libraries you might need\n",
    "import pandas as pd\n",
    "import numpy as np\n",
    "import matplotlib.pyplot as plt\n",
    "import warnings\n",
    "warnings.filterwarnings('ignore')\n",
    "import seaborn as sns\n"
   ]
  },
  {
   "cell_type": "code",
   "execution_count": 2,
   "metadata": {
    "colab": {
     "base_uri": "https://localhost:8080/",
     "height": 532
    },
    "id": "pryvJIYW6qIj",
    "outputId": "075c2642-ba14-4f8b-85b3-43439bd4c992"
   },
   "outputs": [
    {
     "data": {
      "text/html": [
       "<div>\n",
       "<style scoped>\n",
       "    .dataframe tbody tr th:only-of-type {\n",
       "        vertical-align: middle;\n",
       "    }\n",
       "\n",
       "    .dataframe tbody tr th {\n",
       "        vertical-align: top;\n",
       "    }\n",
       "\n",
       "    .dataframe thead th {\n",
       "        text-align: right;\n",
       "    }\n",
       "</style>\n",
       "<table border=\"1\" class=\"dataframe\">\n",
       "  <thead>\n",
       "    <tr style=\"text-align: right;\">\n",
       "      <th></th>\n",
       "      <th>patient_id</th>\n",
       "      <th>clump_thickness</th>\n",
       "      <th>cell_size_uniformity</th>\n",
       "      <th>cell_shape_uniformity</th>\n",
       "      <th>marginal_adhesion</th>\n",
       "      <th>single_ep_cell_size</th>\n",
       "      <th>bare_nuclei</th>\n",
       "      <th>bland_chromatin</th>\n",
       "      <th>normal_nucleoli</th>\n",
       "      <th>mitoses</th>\n",
       "      <th>class</th>\n",
       "      <th>doctor_name</th>\n",
       "    </tr>\n",
       "  </thead>\n",
       "  <tbody>\n",
       "    <tr>\n",
       "      <th>0</th>\n",
       "      <td>1000025</td>\n",
       "      <td>5.0</td>\n",
       "      <td>1.0</td>\n",
       "      <td>1</td>\n",
       "      <td>1</td>\n",
       "      <td>2</td>\n",
       "      <td>1</td>\n",
       "      <td>3.0</td>\n",
       "      <td>1.0</td>\n",
       "      <td>1</td>\n",
       "      <td>benign</td>\n",
       "      <td>Dr. Doe</td>\n",
       "    </tr>\n",
       "    <tr>\n",
       "      <th>1</th>\n",
       "      <td>1002945</td>\n",
       "      <td>5.0</td>\n",
       "      <td>4.0</td>\n",
       "      <td>4</td>\n",
       "      <td>5</td>\n",
       "      <td>7</td>\n",
       "      <td>10</td>\n",
       "      <td>3.0</td>\n",
       "      <td>2.0</td>\n",
       "      <td>1</td>\n",
       "      <td>benign</td>\n",
       "      <td>Dr. Smith</td>\n",
       "    </tr>\n",
       "    <tr>\n",
       "      <th>2</th>\n",
       "      <td>1015425</td>\n",
       "      <td>3.0</td>\n",
       "      <td>1.0</td>\n",
       "      <td>1</td>\n",
       "      <td>1</td>\n",
       "      <td>2</td>\n",
       "      <td>2</td>\n",
       "      <td>3.0</td>\n",
       "      <td>1.0</td>\n",
       "      <td>1</td>\n",
       "      <td>benign</td>\n",
       "      <td>Dr. Lee</td>\n",
       "    </tr>\n",
       "    <tr>\n",
       "      <th>3</th>\n",
       "      <td>1016277</td>\n",
       "      <td>6.0</td>\n",
       "      <td>8.0</td>\n",
       "      <td>8</td>\n",
       "      <td>1</td>\n",
       "      <td>3</td>\n",
       "      <td>4</td>\n",
       "      <td>3.0</td>\n",
       "      <td>7.0</td>\n",
       "      <td>1</td>\n",
       "      <td>benign</td>\n",
       "      <td>Dr. Smith</td>\n",
       "    </tr>\n",
       "    <tr>\n",
       "      <th>4</th>\n",
       "      <td>1017023</td>\n",
       "      <td>4.0</td>\n",
       "      <td>1.0</td>\n",
       "      <td>1</td>\n",
       "      <td>3</td>\n",
       "      <td>2</td>\n",
       "      <td>1</td>\n",
       "      <td>3.0</td>\n",
       "      <td>1.0</td>\n",
       "      <td>1</td>\n",
       "      <td>benign</td>\n",
       "      <td>Dr. Wong</td>\n",
       "    </tr>\n",
       "    <tr>\n",
       "      <th>...</th>\n",
       "      <td>...</td>\n",
       "      <td>...</td>\n",
       "      <td>...</td>\n",
       "      <td>...</td>\n",
       "      <td>...</td>\n",
       "      <td>...</td>\n",
       "      <td>...</td>\n",
       "      <td>...</td>\n",
       "      <td>...</td>\n",
       "      <td>...</td>\n",
       "      <td>...</td>\n",
       "      <td>...</td>\n",
       "    </tr>\n",
       "    <tr>\n",
       "      <th>694</th>\n",
       "      <td>776715</td>\n",
       "      <td>3.0</td>\n",
       "      <td>1.0</td>\n",
       "      <td>1</td>\n",
       "      <td>1</td>\n",
       "      <td>3</td>\n",
       "      <td>2</td>\n",
       "      <td>1.0</td>\n",
       "      <td>1.0</td>\n",
       "      <td>1</td>\n",
       "      <td>benign</td>\n",
       "      <td>Dr. Lee</td>\n",
       "    </tr>\n",
       "    <tr>\n",
       "      <th>695</th>\n",
       "      <td>841769</td>\n",
       "      <td>2.0</td>\n",
       "      <td>1.0</td>\n",
       "      <td>1</td>\n",
       "      <td>1</td>\n",
       "      <td>2</td>\n",
       "      <td>1</td>\n",
       "      <td>1.0</td>\n",
       "      <td>1.0</td>\n",
       "      <td>1</td>\n",
       "      <td>benign</td>\n",
       "      <td>Dr. Smith</td>\n",
       "    </tr>\n",
       "    <tr>\n",
       "      <th>696</th>\n",
       "      <td>888820</td>\n",
       "      <td>5.0</td>\n",
       "      <td>10.0</td>\n",
       "      <td>10</td>\n",
       "      <td>3</td>\n",
       "      <td>7</td>\n",
       "      <td>3</td>\n",
       "      <td>8.0</td>\n",
       "      <td>10.0</td>\n",
       "      <td>2</td>\n",
       "      <td>malignant</td>\n",
       "      <td>Dr. Lee</td>\n",
       "    </tr>\n",
       "    <tr>\n",
       "      <th>697</th>\n",
       "      <td>897471</td>\n",
       "      <td>4.0</td>\n",
       "      <td>8.0</td>\n",
       "      <td>6</td>\n",
       "      <td>4</td>\n",
       "      <td>3</td>\n",
       "      <td>4</td>\n",
       "      <td>10.0</td>\n",
       "      <td>6.0</td>\n",
       "      <td>1</td>\n",
       "      <td>malignant</td>\n",
       "      <td>Dr. Lee</td>\n",
       "    </tr>\n",
       "    <tr>\n",
       "      <th>698</th>\n",
       "      <td>897471</td>\n",
       "      <td>4.0</td>\n",
       "      <td>8.0</td>\n",
       "      <td>8</td>\n",
       "      <td>5</td>\n",
       "      <td>4</td>\n",
       "      <td>5</td>\n",
       "      <td>10.0</td>\n",
       "      <td>4.0</td>\n",
       "      <td>1</td>\n",
       "      <td>malignant</td>\n",
       "      <td>Dr. Wong</td>\n",
       "    </tr>\n",
       "  </tbody>\n",
       "</table>\n",
       "<p>699 rows × 12 columns</p>\n",
       "</div>"
      ],
      "text/plain": [
       "     patient_id  clump_thickness  cell_size_uniformity  cell_shape_uniformity  \\\n",
       "0       1000025              5.0                   1.0                      1   \n",
       "1       1002945              5.0                   4.0                      4   \n",
       "2       1015425              3.0                   1.0                      1   \n",
       "3       1016277              6.0                   8.0                      8   \n",
       "4       1017023              4.0                   1.0                      1   \n",
       "..          ...              ...                   ...                    ...   \n",
       "694      776715              3.0                   1.0                      1   \n",
       "695      841769              2.0                   1.0                      1   \n",
       "696      888820              5.0                  10.0                     10   \n",
       "697      897471              4.0                   8.0                      6   \n",
       "698      897471              4.0                   8.0                      8   \n",
       "\n",
       "     marginal_adhesion  single_ep_cell_size bare_nuclei  bland_chromatin  \\\n",
       "0                    1                    2           1              3.0   \n",
       "1                    5                    7          10              3.0   \n",
       "2                    1                    2           2              3.0   \n",
       "3                    1                    3           4              3.0   \n",
       "4                    3                    2           1              3.0   \n",
       "..                 ...                  ...         ...              ...   \n",
       "694                  1                    3           2              1.0   \n",
       "695                  1                    2           1              1.0   \n",
       "696                  3                    7           3              8.0   \n",
       "697                  4                    3           4             10.0   \n",
       "698                  5                    4           5             10.0   \n",
       "\n",
       "     normal_nucleoli  mitoses      class doctor_name  \n",
       "0                1.0        1     benign     Dr. Doe  \n",
       "1                2.0        1     benign   Dr. Smith  \n",
       "2                1.0        1     benign     Dr. Lee  \n",
       "3                7.0        1     benign   Dr. Smith  \n",
       "4                1.0        1     benign    Dr. Wong  \n",
       "..               ...      ...        ...         ...  \n",
       "694              1.0        1     benign     Dr. Lee  \n",
       "695              1.0        1     benign   Dr. Smith  \n",
       "696             10.0        2  malignant     Dr. Lee  \n",
       "697              6.0        1  malignant     Dr. Lee  \n",
       "698              4.0        1  malignant    Dr. Wong  \n",
       "\n",
       "[699 rows x 12 columns]"
      ]
     },
     "execution_count": 2,
     "metadata": {},
     "output_type": "execute_result"
    }
   ],
   "source": [
    "#### Import file breast_cancer_data.csv\n",
    "df = pd.read_csv(r\"C:\\Users\\saadc\\Downloads\\breast_cancer_data.csv\")\n",
    "df"
   ]
  },
  {
   "cell_type": "markdown",
   "metadata": {
    "id": "mxP04WBY6qIk"
   },
   "source": [
    "Let's check the file then..."
   ]
  },
  {
   "cell_type": "code",
   "execution_count": 3,
   "metadata": {
    "colab": {
     "base_uri": "https://localhost:8080/",
     "height": 443
    },
    "id": "X4PROC4N6qIl",
    "outputId": "7b5c5fc3-4072-49ca-b780-2f468e2d6df1"
   },
   "outputs": [
    {
     "data": {
      "text/html": [
       "<div>\n",
       "<style scoped>\n",
       "    .dataframe tbody tr th:only-of-type {\n",
       "        vertical-align: middle;\n",
       "    }\n",
       "\n",
       "    .dataframe tbody tr th {\n",
       "        vertical-align: top;\n",
       "    }\n",
       "\n",
       "    .dataframe thead th {\n",
       "        text-align: right;\n",
       "    }\n",
       "</style>\n",
       "<table border=\"1\" class=\"dataframe\">\n",
       "  <thead>\n",
       "    <tr style=\"text-align: right;\">\n",
       "      <th></th>\n",
       "      <th>patient_id</th>\n",
       "      <th>clump_thickness</th>\n",
       "      <th>cell_size_uniformity</th>\n",
       "      <th>cell_shape_uniformity</th>\n",
       "      <th>marginal_adhesion</th>\n",
       "      <th>single_ep_cell_size</th>\n",
       "      <th>bare_nuclei</th>\n",
       "      <th>bland_chromatin</th>\n",
       "      <th>normal_nucleoli</th>\n",
       "      <th>mitoses</th>\n",
       "      <th>class</th>\n",
       "      <th>doctor_name</th>\n",
       "    </tr>\n",
       "  </thead>\n",
       "  <tbody>\n",
       "    <tr>\n",
       "      <th>0</th>\n",
       "      <td>1000025</td>\n",
       "      <td>5.0</td>\n",
       "      <td>1.0</td>\n",
       "      <td>1</td>\n",
       "      <td>1</td>\n",
       "      <td>2</td>\n",
       "      <td>1</td>\n",
       "      <td>3.0</td>\n",
       "      <td>1.0</td>\n",
       "      <td>1</td>\n",
       "      <td>benign</td>\n",
       "      <td>Dr. Doe</td>\n",
       "    </tr>\n",
       "    <tr>\n",
       "      <th>1</th>\n",
       "      <td>1002945</td>\n",
       "      <td>5.0</td>\n",
       "      <td>4.0</td>\n",
       "      <td>4</td>\n",
       "      <td>5</td>\n",
       "      <td>7</td>\n",
       "      <td>10</td>\n",
       "      <td>3.0</td>\n",
       "      <td>2.0</td>\n",
       "      <td>1</td>\n",
       "      <td>benign</td>\n",
       "      <td>Dr. Smith</td>\n",
       "    </tr>\n",
       "    <tr>\n",
       "      <th>2</th>\n",
       "      <td>1015425</td>\n",
       "      <td>3.0</td>\n",
       "      <td>1.0</td>\n",
       "      <td>1</td>\n",
       "      <td>1</td>\n",
       "      <td>2</td>\n",
       "      <td>2</td>\n",
       "      <td>3.0</td>\n",
       "      <td>1.0</td>\n",
       "      <td>1</td>\n",
       "      <td>benign</td>\n",
       "      <td>Dr. Lee</td>\n",
       "    </tr>\n",
       "    <tr>\n",
       "      <th>3</th>\n",
       "      <td>1016277</td>\n",
       "      <td>6.0</td>\n",
       "      <td>8.0</td>\n",
       "      <td>8</td>\n",
       "      <td>1</td>\n",
       "      <td>3</td>\n",
       "      <td>4</td>\n",
       "      <td>3.0</td>\n",
       "      <td>7.0</td>\n",
       "      <td>1</td>\n",
       "      <td>benign</td>\n",
       "      <td>Dr. Smith</td>\n",
       "    </tr>\n",
       "    <tr>\n",
       "      <th>4</th>\n",
       "      <td>1017023</td>\n",
       "      <td>4.0</td>\n",
       "      <td>1.0</td>\n",
       "      <td>1</td>\n",
       "      <td>3</td>\n",
       "      <td>2</td>\n",
       "      <td>1</td>\n",
       "      <td>3.0</td>\n",
       "      <td>1.0</td>\n",
       "      <td>1</td>\n",
       "      <td>benign</td>\n",
       "      <td>Dr. Wong</td>\n",
       "    </tr>\n",
       "  </tbody>\n",
       "</table>\n",
       "</div>"
      ],
      "text/plain": [
       "   patient_id  clump_thickness  cell_size_uniformity  cell_shape_uniformity  \\\n",
       "0     1000025              5.0                   1.0                      1   \n",
       "1     1002945              5.0                   4.0                      4   \n",
       "2     1015425              3.0                   1.0                      1   \n",
       "3     1016277              6.0                   8.0                      8   \n",
       "4     1017023              4.0                   1.0                      1   \n",
       "\n",
       "   marginal_adhesion  single_ep_cell_size bare_nuclei  bland_chromatin  \\\n",
       "0                  1                    2           1              3.0   \n",
       "1                  5                    7          10              3.0   \n",
       "2                  1                    2           2              3.0   \n",
       "3                  1                    3           4              3.0   \n",
       "4                  3                    2           1              3.0   \n",
       "\n",
       "   normal_nucleoli  mitoses   class doctor_name  \n",
       "0              1.0        1  benign     Dr. Doe  \n",
       "1              2.0        1  benign   Dr. Smith  \n",
       "2              1.0        1  benign     Dr. Lee  \n",
       "3              7.0        1  benign   Dr. Smith  \n",
       "4              1.0        1  benign    Dr. Wong  "
      ]
     },
     "execution_count": 3,
     "metadata": {},
     "output_type": "execute_result"
    }
   ],
   "source": [
    "##Look at the first 5 rows of data\n",
    "df.head(5)"
   ]
  },
  {
   "cell_type": "markdown",
   "metadata": {
    "id": "9d_uauD86qIn"
   },
   "source": [
    "### General questions about the dataset\n",
    "\n",
    "### 1. How many rows and columns do we have?"
   ]
  },
  {
   "cell_type": "code",
   "execution_count": 4,
   "metadata": {
    "colab": {
     "base_uri": "https://localhost:8080/"
    },
    "id": "4qtUzqKk6qIo",
    "outputId": "5cc22808-1f0d-43b8-fd7a-495d0c4a5853"
   },
   "outputs": [
    {
     "data": {
      "text/plain": [
       "(699, 12)"
      ]
     },
     "execution_count": 4,
     "metadata": {},
     "output_type": "execute_result"
    }
   ],
   "source": [
    "# How many rows and columns do we have?\n",
    "df.shape "
   ]
  },
  {
   "cell_type": "markdown",
   "metadata": {
    "id": "oIOyyfPe6qIo"
   },
   "source": [
    "### 2. What are the type of the values in each column?"
   ]
  },
  {
   "cell_type": "code",
   "execution_count": 5,
   "metadata": {
    "colab": {
     "base_uri": "https://localhost:8080/"
    },
    "id": "dmLgDBwU6qIo",
    "outputId": "d454ffe2-1a7a-45ff-e8af-af668dd38442"
   },
   "outputs": [
    {
     "data": {
      "text/plain": [
       "patient_id                 int64\n",
       "clump_thickness          float64\n",
       "cell_size_uniformity     float64\n",
       "cell_shape_uniformity      int64\n",
       "marginal_adhesion          int64\n",
       "single_ep_cell_size        int64\n",
       "bare_nuclei               object\n",
       "bland_chromatin          float64\n",
       "normal_nucleoli          float64\n",
       "mitoses                    int64\n",
       "class                     object\n",
       "doctor_name               object\n",
       "dtype: object"
      ]
     },
     "execution_count": 5,
     "metadata": {},
     "output_type": "execute_result"
    }
   ],
   "source": [
    " #What are the type of the values in each column?\n",
    "df.dtypes"
   ]
  },
  {
   "cell_type": "markdown",
   "metadata": {
    "id": "IonWmYNx6qIo"
   },
   "source": [
    "### 3. How can we check the number of each unique value per column?"
   ]
  },
  {
   "cell_type": "code",
   "execution_count": 6,
   "metadata": {
    "colab": {
     "base_uri": "https://localhost:8080/"
    },
    "id": "ODLa6bb36qIq",
    "outputId": "51d7a010-49e8-461f-bf56-871aa88ed06c"
   },
   "outputs": [
    {
     "name": "stdout",
     "output_type": "stream",
     "text": [
      "patient_id\n",
      "patient_id contains unique values [ 1000025  1002945  1015425  1016277  1017023  1017122  1018099  1018561\n",
      "  1033078  1035283  1036172  1041801  1043999  1044572  1047630  1048672\n",
      "  1049815  1050670  1050718  1054590  1054593  1056784  1057013  1059552\n",
      "  1065726  1066373  1066979  1067444  1070935  1071760  1072179  1074610\n",
      "  1075123  1079304  1080185  1081791  1084584  1091262  1096800  1099510\n",
      "  1100524  1102573  1103608  1103722  1105257  1105524  1106095  1106829\n",
      "  1108370  1108449  1110102  1110503  1110524  1111249  1112209  1113038\n",
      "  1113483  1113906  1115282  1115293  1116116  1116132  1116192  1116998\n",
      "  1117152  1118039  1120559  1121732  1121919  1123061  1124651  1125035\n",
      "  1126417  1131294  1132347  1133041  1133136  1136142  1137156  1143978\n",
      "  1147044  1147699  1147748  1148278  1148873  1152331  1155546  1156272\n",
      "  1156948  1157734  1158247  1160476  1164066  1165297  1165790  1165926\n",
      "  1166630  1166654  1167439  1167471  1168359  1168736  1169049  1170419\n",
      "  1170420  1171710  1171795  1171845  1172152  1173216  1173235  1173347\n",
      "  1173509  1173514  1173681  1174057  1174131  1174428  1175937  1176406\n",
      "  1176881  1177027  1177399  1177512  1178580  1179818  1180194  1180523\n",
      "  1180831  1181356  1182404  1182410  1183240  1183246  1183516  1183911\n",
      "  1183983  1184184  1184241  1184840  1185609  1185610  1187457  1187805\n",
      "  1188472  1189266  1189286  1190394  1190485  1192325  1193091  1193210\n",
      "  1193683  1196295  1196915  1197080  1197270  1197440  1197510  1197979\n",
      "  1197993  1198128  1198641  1199219  1199731  1199983  1200772  1200847\n",
      "  1200892  1200952  1201834  1201936  1202125  1202812  1203096  1204242\n",
      "  1204898  1205138  1205579  1206089  1206695  1206841  1207986  1208301\n",
      "  1210963  1211202  1212232  1212251  1212422  1213375  1213383  1214092\n",
      "  1214556  1214966  1216694  1216947  1217051  1217264  1218105  1218741\n",
      "  1218860  1219406  1219525  1219859  1220330  1221863  1222047  1222936\n",
      "  1223282  1223426  1223793  1223967  1224329  1225799  1226012  1226612\n",
      "  1227210  1227244  1227481  1228152  1228311  1230175  1230688  1231387\n",
      "  1231706  1232225  1236043  1241232  1241559  1241679  1242364  1243256\n",
      "  1270479  1276091  1277018   128059  1285531  1287775   144888   145447\n",
      "   167528   169356   183913   191250   242970   255644   263538   274137\n",
      "   303213   314428   320675   324427   385103   390840   411453   428903\n",
      "   431495   432809   434518   452264   456282   476903   486283   486662\n",
      "   488173   492268   508234   527363   529329   535331   543558   555977\n",
      "   560680   561477   563649   601265   606140   606722   616240    61634\n",
      "   625201    63375   635844   636130   640744   646904   653777   659642\n",
      "   666090   666942   667204   673637   684955   688033   691628   693702\n",
      "   704097   704168   706426   709287   718641   721482   730881   733639\n",
      "   733823   740492   743348   752904   756136   760001   760239    76389\n",
      "   764974   770066   785208   785615   792744   797327   798429   806423\n",
      "   809912   810104   814265   814911   822829   826923   830690   831268\n",
      "   832226   832567   836433   837082   846832   850831   855524   857774\n",
      "   859164   859350   866325   873549   877291   877943   888169   888523\n",
      "   896404   897172    95719   160296   342245   428598   492561   493452\n",
      "   521441   636437   640712   654244   657753   685977   805448   846423\n",
      "  1002504  1022257  1026122  1071084  1080233  1114570  1116715  1131411\n",
      "  1151734  1156017  1158405  1168278  1176187  1196263  1196475  1206314\n",
      "  1211265  1213784  1223003  1223306  1223543  1229929  1231853  1234554\n",
      "  1236837  1237674  1238021  1238464  1238633  1238915  1238948  1239232\n",
      "  1239347  1239967  1240337  1253505  1255384  1257200  1257648  1257815\n",
      "  1257938  1258549  1258556  1266154  1272039  1277629  1293439  1294562\n",
      "  1295186   527337   558538   566509   608157   677910   734111   780555\n",
      "   827627  1049837  1058849  1193544  1201870  1202253  1227081  1230994\n",
      "  1238410  1246562  1257470  1259008  1266124  1267898  1268313  1268804\n",
      "  1280258  1293966  1296572  1298416  1299596  1181685  1211594  1238777\n",
      "  1257608  1269574  1277145  1287282  1296025  1296263  1296593  1299161\n",
      "  1301945  1302428  1318169   474162   787451  1002025  1070522  1073960\n",
      "  1076352  1084139  1119189  1133991  1142706  1155967  1170945  1181567\n",
      "  1204558  1217952  1224565  1238186  1253917  1265899  1268766  1277268\n",
      "  1286943  1295508  1297327  1297522  1298360  1299924  1299994  1304595\n",
      "  1306282  1313325  1320077  1320304  1330439   333093   369565   412300\n",
      "   672113   749653   769612   807657  8233704   837480   867392   869828\n",
      "  1043068  1056171  1061990  1113061  1135090  1145420  1158157  1171578\n",
      "  1174841  1184586  1186936  1197527  1222464  1240603  1241035  1287971\n",
      "  1289391  1306339  1313658  1313982  1321264  1321321  1321348  1321931\n",
      "  1321942  1328331  1328755  1331405  1331412  1333104  1334071  1343068\n",
      "  1343374  1344121   142932   183936   324382   378275   690557   695091\n",
      "   695219   824249   871549   878358  1107684  1115762  1217717  1239420\n",
      "  1254538  1261751  1268275  1272166  1294261  1295529  1298484  1311875\n",
      "  1315506  1320141  1325309  1333063  1333495  1334659  1336798  1344449\n",
      "  1350568  1352663   188336   352431   353098   557583   636375   736150\n",
      "   803531  1016634  1031608  1041043  1042252  1057067  1073836  1083817\n",
      "  1096352  1140597  1149548  1174009  1183596  1190386  1190546  1213273\n",
      "  1218982  1225382  1235807  1253955  1257366  1260659  1268952  1275807\n",
      "  1277792  1285722  1288608  1290203  1294413  1303489  1311033  1311108\n",
      "  1315807  1318671  1319609  1323477  1324572  1324681  1325159  1326892\n",
      "  1330361  1333877  1334015  1334667  1339781 13454352  1345452  1345593\n",
      "  1347749  1347943  1348851  1350319  1350423  1352848  1353092  1354840\n",
      "  1355260  1365075  1365328  1368267  1368273  1368882  1369821  1371026\n",
      "  1371920   466906   534555   536708   566346   603148   654546   714039\n",
      "   763235   776715   841769   888820   897471]\n",
      "clump_thickness\n",
      "clump_thickness contains unique values [ 5.  3.  6.  4.  8.  1.  2. nan  7. 10.  9.]\n",
      "cell_size_uniformity\n",
      "cell_size_uniformity contains unique values [ 1.  4.  8. 10. nan  2.  3.  7.  5.  6.  9.]\n",
      "cell_shape_uniformity\n",
      "cell_shape_uniformity contains unique values [ 1  4  8 10  2  3  5  6  7  9]\n",
      "marginal_adhesion\n",
      "marginal_adhesion contains unique values [ 1  5  3  8  4  6 10  2  9  7]\n",
      "single_ep_cell_size\n",
      "single_ep_cell_size contains unique values [ 2  7  3  1  6  4  5  8 10  9]\n",
      "bare_nuclei\n",
      "bare_nuclei contains unique values ['1' '10' '2' '4' '3' '9' '7' '?' '5' '8' '6' nan]\n",
      "bland_chromatin\n",
      "bland_chromatin contains unique values [ 3.  9.  1.  2.  4.  5.  7.  8.  6. 10. nan]\n",
      "normal_nucleoli\n",
      "normal_nucleoli contains unique values [ 1.  2.  7.  4.  5.  3. 10.  6.  9.  8. nan]\n",
      "mitoses\n",
      "mitoses contains unique values [ 1  5  4  2  3  7 10  8  6]\n",
      "class\n",
      "class contains unique values ['benign' 'malignant']\n",
      "doctor_name\n",
      "doctor_name contains unique values ['Dr. Doe' 'Dr. Smith' 'Dr. Lee' 'Dr. Wong']\n"
     ]
    }
   ],
   "source": [
    "#How can we check the number of each unique value per column?\n",
    "for columns in df.columns:\n",
    "    print(columns)\n",
    "    print(f\"{columns} contains unique values {df[columns].unique()}\")"
   ]
  },
  {
   "cell_type": "markdown",
   "metadata": {},
   "source": [
    "4. Describe general statistics of data"
   ]
  },
  {
   "cell_type": "code",
   "execution_count": 8,
   "metadata": {
    "colab": {
     "base_uri": "https://localhost:8080/",
     "height": 320
    },
    "id": "EASppKdF6qIq",
    "outputId": "e82ad341-6bda-4860-81d9-86a307d8986e"
   },
   "outputs": [
    {
     "data": {
      "text/html": [
       "<div>\n",
       "<style scoped>\n",
       "    .dataframe tbody tr th:only-of-type {\n",
       "        vertical-align: middle;\n",
       "    }\n",
       "\n",
       "    .dataframe tbody tr th {\n",
       "        vertical-align: top;\n",
       "    }\n",
       "\n",
       "    .dataframe thead th {\n",
       "        text-align: right;\n",
       "    }\n",
       "</style>\n",
       "<table border=\"1\" class=\"dataframe\">\n",
       "  <thead>\n",
       "    <tr style=\"text-align: right;\">\n",
       "      <th></th>\n",
       "      <th>patient_id</th>\n",
       "      <th>clump_thickness</th>\n",
       "      <th>cell_size_uniformity</th>\n",
       "      <th>cell_shape_uniformity</th>\n",
       "      <th>marginal_adhesion</th>\n",
       "      <th>single_ep_cell_size</th>\n",
       "      <th>bland_chromatin</th>\n",
       "      <th>normal_nucleoli</th>\n",
       "      <th>mitoses</th>\n",
       "    </tr>\n",
       "  </thead>\n",
       "  <tbody>\n",
       "    <tr>\n",
       "      <th>count</th>\n",
       "      <td>6.990000e+02</td>\n",
       "      <td>698.000000</td>\n",
       "      <td>698.000000</td>\n",
       "      <td>699.000000</td>\n",
       "      <td>699.000000</td>\n",
       "      <td>699.000000</td>\n",
       "      <td>695.000000</td>\n",
       "      <td>698.000000</td>\n",
       "      <td>699.000000</td>\n",
       "    </tr>\n",
       "    <tr>\n",
       "      <th>mean</th>\n",
       "      <td>1.071704e+06</td>\n",
       "      <td>4.416905</td>\n",
       "      <td>3.137536</td>\n",
       "      <td>3.207439</td>\n",
       "      <td>2.793991</td>\n",
       "      <td>3.216023</td>\n",
       "      <td>3.447482</td>\n",
       "      <td>2.868195</td>\n",
       "      <td>1.589413</td>\n",
       "    </tr>\n",
       "    <tr>\n",
       "      <th>std</th>\n",
       "      <td>6.170957e+05</td>\n",
       "      <td>2.817673</td>\n",
       "      <td>3.052575</td>\n",
       "      <td>2.971913</td>\n",
       "      <td>2.843163</td>\n",
       "      <td>2.214300</td>\n",
       "      <td>2.441191</td>\n",
       "      <td>3.055647</td>\n",
       "      <td>1.715078</td>\n",
       "    </tr>\n",
       "    <tr>\n",
       "      <th>min</th>\n",
       "      <td>6.163400e+04</td>\n",
       "      <td>1.000000</td>\n",
       "      <td>1.000000</td>\n",
       "      <td>1.000000</td>\n",
       "      <td>1.000000</td>\n",
       "      <td>1.000000</td>\n",
       "      <td>1.000000</td>\n",
       "      <td>1.000000</td>\n",
       "      <td>1.000000</td>\n",
       "    </tr>\n",
       "    <tr>\n",
       "      <th>25%</th>\n",
       "      <td>8.706885e+05</td>\n",
       "      <td>2.000000</td>\n",
       "      <td>1.000000</td>\n",
       "      <td>1.000000</td>\n",
       "      <td>1.000000</td>\n",
       "      <td>2.000000</td>\n",
       "      <td>2.000000</td>\n",
       "      <td>1.000000</td>\n",
       "      <td>1.000000</td>\n",
       "    </tr>\n",
       "    <tr>\n",
       "      <th>50%</th>\n",
       "      <td>1.171710e+06</td>\n",
       "      <td>4.000000</td>\n",
       "      <td>1.000000</td>\n",
       "      <td>1.000000</td>\n",
       "      <td>1.000000</td>\n",
       "      <td>2.000000</td>\n",
       "      <td>3.000000</td>\n",
       "      <td>1.000000</td>\n",
       "      <td>1.000000</td>\n",
       "    </tr>\n",
       "    <tr>\n",
       "      <th>75%</th>\n",
       "      <td>1.238298e+06</td>\n",
       "      <td>6.000000</td>\n",
       "      <td>5.000000</td>\n",
       "      <td>5.000000</td>\n",
       "      <td>3.500000</td>\n",
       "      <td>4.000000</td>\n",
       "      <td>5.000000</td>\n",
       "      <td>4.000000</td>\n",
       "      <td>1.000000</td>\n",
       "    </tr>\n",
       "    <tr>\n",
       "      <th>max</th>\n",
       "      <td>1.345435e+07</td>\n",
       "      <td>10.000000</td>\n",
       "      <td>10.000000</td>\n",
       "      <td>10.000000</td>\n",
       "      <td>10.000000</td>\n",
       "      <td>10.000000</td>\n",
       "      <td>10.000000</td>\n",
       "      <td>10.000000</td>\n",
       "      <td>10.000000</td>\n",
       "    </tr>\n",
       "  </tbody>\n",
       "</table>\n",
       "</div>"
      ],
      "text/plain": [
       "         patient_id  clump_thickness  cell_size_uniformity  \\\n",
       "count  6.990000e+02       698.000000            698.000000   \n",
       "mean   1.071704e+06         4.416905              3.137536   \n",
       "std    6.170957e+05         2.817673              3.052575   \n",
       "min    6.163400e+04         1.000000              1.000000   \n",
       "25%    8.706885e+05         2.000000              1.000000   \n",
       "50%    1.171710e+06         4.000000              1.000000   \n",
       "75%    1.238298e+06         6.000000              5.000000   \n",
       "max    1.345435e+07        10.000000             10.000000   \n",
       "\n",
       "       cell_shape_uniformity  marginal_adhesion  single_ep_cell_size  \\\n",
       "count             699.000000         699.000000           699.000000   \n",
       "mean                3.207439           2.793991             3.216023   \n",
       "std                 2.971913           2.843163             2.214300   \n",
       "min                 1.000000           1.000000             1.000000   \n",
       "25%                 1.000000           1.000000             2.000000   \n",
       "50%                 1.000000           1.000000             2.000000   \n",
       "75%                 5.000000           3.500000             4.000000   \n",
       "max                10.000000          10.000000            10.000000   \n",
       "\n",
       "       bland_chromatin  normal_nucleoli     mitoses  \n",
       "count       695.000000       698.000000  699.000000  \n",
       "mean          3.447482         2.868195    1.589413  \n",
       "std           2.441191         3.055647    1.715078  \n",
       "min           1.000000         1.000000    1.000000  \n",
       "25%           2.000000         1.000000    1.000000  \n",
       "50%           3.000000         1.000000    1.000000  \n",
       "75%           5.000000         4.000000    1.000000  \n",
       "max          10.000000        10.000000   10.000000  "
      ]
     },
     "execution_count": 8,
     "metadata": {},
     "output_type": "execute_result"
    }
   ],
   "source": [
    "#Describe general statistics of data\n",
    "df.describe()"
   ]
  },
  {
   "cell_type": "markdown",
   "metadata": {},
   "source": [
    "5- How many patients with a severe type of breast cancer has each doctor?"
   ]
  },
  {
   "cell_type": "code",
   "execution_count": 15,
   "metadata": {
    "colab": {
     "base_uri": "https://localhost:8080/",
     "height": 300
    },
    "id": "enkTb7ap6qIu",
    "outputId": "3e7be7c1-c1d4-4a75-f8d7-f66b8db65269"
   },
   "outputs": [
    {
     "data": {
      "text/html": [
       "<div>\n",
       "<style scoped>\n",
       "    .dataframe tbody tr th:only-of-type {\n",
       "        vertical-align: middle;\n",
       "    }\n",
       "\n",
       "    .dataframe tbody tr th {\n",
       "        vertical-align: top;\n",
       "    }\n",
       "\n",
       "    .dataframe thead th {\n",
       "        text-align: right;\n",
       "    }\n",
       "</style>\n",
       "<table border=\"1\" class=\"dataframe\">\n",
       "  <thead>\n",
       "    <tr style=\"text-align: right;\">\n",
       "      <th></th>\n",
       "      <th>doctor_name</th>\n",
       "      <th>class</th>\n",
       "      <th>count</th>\n",
       "    </tr>\n",
       "  </thead>\n",
       "  <tbody>\n",
       "    <tr>\n",
       "      <th>0</th>\n",
       "      <td>Dr. Doe</td>\n",
       "      <td>benign</td>\n",
       "      <td>127</td>\n",
       "    </tr>\n",
       "    <tr>\n",
       "      <th>1</th>\n",
       "      <td>Dr. Doe</td>\n",
       "      <td>malignant</td>\n",
       "      <td>58</td>\n",
       "    </tr>\n",
       "    <tr>\n",
       "      <th>2</th>\n",
       "      <td>Dr. Lee</td>\n",
       "      <td>benign</td>\n",
       "      <td>121</td>\n",
       "    </tr>\n",
       "    <tr>\n",
       "      <th>3</th>\n",
       "      <td>Dr. Lee</td>\n",
       "      <td>malignant</td>\n",
       "      <td>60</td>\n",
       "    </tr>\n",
       "    <tr>\n",
       "      <th>4</th>\n",
       "      <td>Dr. Smith</td>\n",
       "      <td>benign</td>\n",
       "      <td>102</td>\n",
       "    </tr>\n",
       "    <tr>\n",
       "      <th>5</th>\n",
       "      <td>Dr. Smith</td>\n",
       "      <td>malignant</td>\n",
       "      <td>74</td>\n",
       "    </tr>\n",
       "    <tr>\n",
       "      <th>6</th>\n",
       "      <td>Dr. Wong</td>\n",
       "      <td>benign</td>\n",
       "      <td>108</td>\n",
       "    </tr>\n",
       "    <tr>\n",
       "      <th>7</th>\n",
       "      <td>Dr. Wong</td>\n",
       "      <td>malignant</td>\n",
       "      <td>49</td>\n",
       "    </tr>\n",
       "  </tbody>\n",
       "</table>\n",
       "</div>"
      ],
      "text/plain": [
       "  doctor_name      class  count\n",
       "0     Dr. Doe     benign    127\n",
       "1     Dr. Doe  malignant     58\n",
       "2     Dr. Lee     benign    121\n",
       "3     Dr. Lee  malignant     60\n",
       "4   Dr. Smith     benign    102\n",
       "5   Dr. Smith  malignant     74\n",
       "6    Dr. Wong     benign    108\n",
       "7    Dr. Wong  malignant     49"
      ]
     },
     "execution_count": 15,
     "metadata": {},
     "output_type": "execute_result"
    }
   ],
   "source": [
    "# The code for this question is here (you should rreplace the name of your dataset with breast_dataset if you got an error)\n",
    "answer_5 = breast_dataset.groupby(by=['doctor_name', 'class']).size()\n",
    "patient_type_per_doctor = pd.DataFrame({'count':answer_5}).reset_index()\n",
    "patient_type_per_doctor\n",
    "######"
   ]
  },
  {
   "cell_type": "code",
   "execution_count": 25,
   "metadata": {},
   "outputs": [
    {
     "data": {
      "text/plain": [
       "doctor_name\n",
       "Dr. Doe      58\n",
       "Dr. Lee      60\n",
       "Dr. Smith    74\n",
       "Dr. Wong     49\n",
       "dtype: int64"
      ]
     },
     "execution_count": 25,
     "metadata": {},
     "output_type": "execute_result"
    }
   ],
   "source": [
    "severe_type = \"malignant\"\n",
    "patient_type_per_doctor =  df[df[\"class\"] == severe_type].groupby(\"doctor_name\").size()\n",
    "patient_type_per_doctor\n"
   ]
  },
  {
   "cell_type": "code",
   "execution_count": 26,
   "metadata": {
    "colab": {
     "base_uri": "https://localhost:8080/"
    },
    "id": "MJ8AStrPJ1bE",
    "outputId": "46fb2d5a-0a27-4c3f-9962-09a47a3dea0b"
   },
   "outputs": [
    {
     "data": {
      "text/plain": [
       "pandas.core.series.Series"
      ]
     },
     "execution_count": 26,
     "metadata": {},
     "output_type": "execute_result"
    }
   ],
   "source": [
    "type(patient_type_per_doctor)"
   ]
  },
  {
   "cell_type": "markdown",
   "metadata": {},
   "source": [
    "6- Use patient_type_per_doctor to plot a barplot graph."
   ]
  },
  {
   "cell_type": "code",
   "execution_count": 23,
   "metadata": {
    "colab": {
     "base_uri": "https://localhost:8080/",
     "height": 404
    },
    "id": "Sp5Ga-MS6qIu",
    "outputId": "17c95f3f-01fe-423b-d3c2-635608af45d5"
   },
   "outputs": [
    {
     "ename": "TypeError",
     "evalue": "bar() missing 1 required positional argument: 'height'",
     "output_type": "error",
     "traceback": [
      "\u001b[1;31m---------------------------------------------------------------------------\u001b[0m",
      "\u001b[1;31mTypeError\u001b[0m                                 Traceback (most recent call last)",
      "Cell \u001b[1;32mIn[23], line 3\u001b[0m\n\u001b[0;32m      1\u001b[0m \u001b[38;5;66;03m#### Question 6.\u001b[39;00m\n\u001b[0;32m      2\u001b[0m plt\u001b[38;5;241m.\u001b[39mfigure(figsize\u001b[38;5;241m=\u001b[39m(\u001b[38;5;241m10\u001b[39m, \u001b[38;5;241m6\u001b[39m))\n\u001b[1;32m----> 3\u001b[0m plt\u001b[38;5;241m.\u001b[39mbar(x \u001b[38;5;241m=\u001b[39m \u001b[38;5;124m\"\u001b[39m\u001b[38;5;124mpatient_type_per_doctor\u001b[39m\u001b[38;5;124m\"\u001b[39m)\n\u001b[0;32m      4\u001b[0m plt\u001b[38;5;241m.\u001b[39mtitle(\u001b[38;5;124m\"\u001b[39m\u001b[38;5;124mNumber of Patients with Severe Type of Breast Cancer per Doctor\u001b[39m\u001b[38;5;124m\"\u001b[39m)\n\u001b[0;32m      5\u001b[0m plt\u001b[38;5;241m.\u001b[39mxlabel(\u001b[38;5;124m\"\u001b[39m\u001b[38;5;124mDoctor Name\u001b[39m\u001b[38;5;124m\"\u001b[39m)\n",
      "\u001b[1;31mTypeError\u001b[0m: bar() missing 1 required positional argument: 'height'"
     ]
    },
    {
     "data": {
      "text/plain": [
       "<Figure size 1000x600 with 0 Axes>"
      ]
     },
     "metadata": {},
     "output_type": "display_data"
    }
   ],
   "source": [
    "#### Question 6.\n",
    "\n"
   ]
  },
  {
   "cell_type": "markdown",
   "metadata": {
    "id": "TfsNN8u_6qIv"
   },
   "source": [
    "### II. Accessing, slicing and selecting data\n",
    "\n"
   ]
  },
  {
   "cell_type": "markdown",
   "metadata": {
    "id": "MPUHdeuo6qIv"
   },
   "source": [
    "### 1. Accessing values from columns"
   ]
  },
  {
   "cell_type": "code",
   "execution_count": 18,
   "metadata": {
    "colab": {
     "base_uri": "https://localhost:8080/"
    },
    "id": "H6LASziA6qIw",
    "outputId": "cb5d0292-dc80-43a5-c9d8-fe969f5d8366"
   },
   "outputs": [
    {
     "data": {
      "text/plain": [
       "['patient_id',\n",
       " 'clump_thickness',\n",
       " 'cell_size_uniformity',\n",
       " 'cell_shape_uniformity',\n",
       " 'marginal_adhesion',\n",
       " 'single_ep_cell_size',\n",
       " 'bare_nuclei',\n",
       " 'bland_chromatin',\n",
       " 'normal_nucleoli',\n",
       " 'mitoses',\n",
       " 'class',\n",
       " 'doctor_name']"
      ]
     },
     "execution_count": 18,
     "metadata": {},
     "output_type": "execute_result"
    }
   ],
   "source": [
    " #### Collecting all column names in list\n",
    " list(breast_dataset.columns)"
   ]
  },
  {
   "cell_type": "code",
   "execution_count": 7,
   "metadata": {
    "colab": {
     "base_uri": "https://localhost:8080/",
     "height": 423
    },
    "id": "7k0U3EtG6qIw",
    "outputId": "e4af152c-e861-4a20-a33a-b8119684c091"
   },
   "outputs": [],
   "source": [
    "#### Make a dataframe with the values that you find interesting (for example we could have get this table for the extra questions)\n"
   ]
  },
  {
   "cell_type": "markdown",
   "metadata": {
    "id": "Hym1VJVE6qIw"
   },
   "source": [
    "### 2. Select specific rows in the table based on their index"
   ]
  },
  {
   "cell_type": "code",
   "execution_count": 21,
   "metadata": {
    "colab": {
     "base_uri": "https://localhost:8080/"
    },
    "id": "oyf5EKaO6qIx",
    "outputId": "c42e26dd-a80d-425b-c861-e8b066ad01ab"
   },
   "outputs": [
    {
     "ename": "NameError",
     "evalue": "name 'breast_dataset' is not defined",
     "output_type": "error",
     "traceback": [
      "\u001b[1;31m---------------------------------------------------------------------------\u001b[0m",
      "\u001b[1;31mNameError\u001b[0m                                 Traceback (most recent call last)",
      "Cell \u001b[1;32mIn[21], line 2\u001b[0m\n\u001b[0;32m      1\u001b[0m \u001b[38;5;66;03m#### print data of row 5\u001b[39;00m\n\u001b[1;32m----> 2\u001b[0m breast_dataset\u001b[38;5;241m.\u001b[39miloc[[\u001b[38;5;241m5\u001b[39m]]\n",
      "\u001b[1;31mNameError\u001b[0m: name 'breast_dataset' is not defined"
     ]
    }
   ],
   "source": [
    "#### print data of row 5\n",
    "breast_dataset.iloc[[5]]"
   ]
  },
  {
   "cell_type": "code",
   "execution_count": 9,
   "metadata": {
    "colab": {
     "base_uri": "https://localhost:8080/",
     "height": 383
    },
    "id": "wAZpG0eq6qIy",
    "outputId": "b504403e-c66e-4e5f-bbb4-e7f7b5eb2bcc"
   },
   "outputs": [],
   "source": [
    "#print values of first 10 rows of the dataset\n"
   ]
  },
  {
   "cell_type": "markdown",
   "metadata": {
    "id": "TA4ZBNmI6qIy"
   },
   "source": [
    "### 3. Selecting specific rows based on a condition"
   ]
  },
  {
   "cell_type": "code",
   "execution_count": 10,
   "metadata": {
    "colab": {
     "base_uri": "https://localhost:8080/",
     "height": 508
    },
    "id": "uuYUddUL6qIy",
    "outputId": "7b1065b4-6be7-4159-cb7a-f2bc1365c9ff"
   },
   "outputs": [],
   "source": [
    "#print rows where value of column mitoses is equal to 10 (==10)\n"
   ]
  },
  {
   "cell_type": "markdown",
   "metadata": {
    "id": "11NOKUDF6qI0"
   },
   "source": [
    "\n",
    "### III. Dealing with missing values\n",
    "\n",
    "### 1. How many missing values per column do we have?"
   ]
  },
  {
   "cell_type": "code",
   "execution_count": 12,
   "metadata": {
    "colab": {
     "base_uri": "https://localhost:8080/"
    },
    "id": "WCn9ZXGa6qI0",
    "outputId": "bc138b49-577b-4d79-8e47-ddb721993112"
   },
   "outputs": [
    {
     "data": {
      "text/plain": [
       "patient_id               0\n",
       "clump_thickness          1\n",
       "cell_size_uniformity     1\n",
       "cell_shape_uniformity    0\n",
       "marginal_adhesion        0\n",
       "single_ep_cell_size      0\n",
       "bare_nuclei              2\n",
       "bland_chromatin          4\n",
       "normal_nucleoli          1\n",
       "mitoses                  0\n",
       "class                    0\n",
       "doctor_name              0\n",
       "dtype: int64"
      ]
     },
     "execution_count": 12,
     "metadata": {},
     "output_type": "execute_result"
    }
   ],
   "source": [
    "#### NB: In numpy, missing values can be defined with np.nan\n",
    "df.isnull().sum()\n"
   ]
  },
  {
   "cell_type": "markdown",
   "metadata": {
    "id": "Lb0cRZH66qI1"
   },
   "source": [
    "### Determinant choice: What can we do with these missing values?\n",
    "- [ ] Replace them with zero! - 1\n",
    "- [ ] Remove them all! - 2\n",
    "\n"
   ]
  },
  {
   "cell_type": "code",
   "execution_count": 24,
   "metadata": {
    "colab": {
     "base_uri": "https://localhost:8080/"
    },
    "id": "lv2Fztan6qI1",
    "outputId": "6f0cd5a7-9777-48d3-e36d-aa6611f38353"
   },
   "outputs": [
    {
     "ename": "NameError",
     "evalue": "name 'breast_dataset' is not defined",
     "output_type": "error",
     "traceback": [
      "\u001b[1;31m---------------------------------------------------------------------------\u001b[0m",
      "\u001b[1;31mNameError\u001b[0m                                 Traceback (most recent call last)",
      "Cell \u001b[1;32mIn[24], line 2\u001b[0m\n\u001b[0;32m      1\u001b[0m \u001b[38;5;66;03m#### Replace them with zero\u001b[39;00m\n\u001b[1;32m----> 2\u001b[0m breast_dataset\u001b[38;5;241m.\u001b[39mfillna(\u001b[38;5;241m0\u001b[39m)\n",
      "\u001b[1;31mNameError\u001b[0m: name 'breast_dataset' is not defined"
     ]
    }
   ],
   "source": [
    "#### Replace them with zero\n",
    "breast_dataset.fillna(0)"
   ]
  },
  {
   "cell_type": "code",
   "execution_count": 13,
   "metadata": {
    "colab": {
     "base_uri": "https://localhost:8080/"
    },
    "id": "2YAsgZPc6qI1",
    "outputId": "b772742c-720a-4cbc-9c18-e2a023456593"
   },
   "outputs": [],
   "source": [
    "#### Remove them all\n"
   ]
  }
 ],
 "metadata": {
  "colab": {
   "name": "Data_Processing_Python_init_datatrek_012121.ipynb",
   "provenance": []
  },
  "kernelspec": {
   "display_name": "Python 3 (ipykernel)",
   "language": "python",
   "name": "python3"
  },
  "language_info": {
   "codemirror_mode": {
    "name": "ipython",
    "version": 3
   },
   "file_extension": ".py",
   "mimetype": "text/x-python",
   "name": "python",
   "nbconvert_exporter": "python",
   "pygments_lexer": "ipython3",
   "version": "3.11.4"
  }
 },
 "nbformat": 4,
 "nbformat_minor": 1
}
